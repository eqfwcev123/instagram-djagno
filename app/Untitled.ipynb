{
 "cells": [
  {
   "cell_type": "markdown",
   "metadata": {},
   "source": [
    "### Validation 을 하는 이유\n",
    "Form 을 사용하는 이유?\n",
    "**클라이언트가 이미지라고 말한다고 해서 파일을 서버에 허용하는 것은, 아무것도 훔쳐가지 않겠다고 말한 낯선 사람에게 집 열쇠를 맡기는것과 동일하다**\n",
    "\n",
    "Django Form을 사용하면 Form의 형식을 제한할 수 있다. 다시말해 Django Form 을 이용해서 각 데이터들의 유효성 검사를 할 수 있는것이다."
   ]
  },
  {
   "cell_type": "code",
   "execution_count": 1,
   "metadata": {},
   "outputs": [],
   "source": [
    "from members.forms import *"
   ]
  },
  {
   "cell_type": "code",
   "execution_count": 2,
   "metadata": {},
   "outputs": [],
   "source": [
    "data = {\n",
    "    'username': 'eqfwcev123',\n",
    "    'password': '123',\n",
    "    'email': 'eqfwcev@naver.com',\n",
    "    'name': '이도현',\n",
    "}"
   ]
  },
  {
   "cell_type": "code",
   "execution_count": 3,
   "metadata": {},
   "outputs": [],
   "source": [
    "form = SignupForm(data)"
   ]
  },
  {
   "cell_type": "code",
   "execution_count": 4,
   "metadata": {},
   "outputs": [
    {
     "data": {
      "text/plain": [
       "['__class__',\n",
       " '__delattr__',\n",
       " '__dict__',\n",
       " '__dir__',\n",
       " '__doc__',\n",
       " '__eq__',\n",
       " '__format__',\n",
       " '__ge__',\n",
       " '__getattribute__',\n",
       " '__getitem__',\n",
       " '__gt__',\n",
       " '__hash__',\n",
       " '__html__',\n",
       " '__init__',\n",
       " '__init_subclass__',\n",
       " '__iter__',\n",
       " '__le__',\n",
       " '__lt__',\n",
       " '__module__',\n",
       " '__ne__',\n",
       " '__new__',\n",
       " '__reduce__',\n",
       " '__reduce_ex__',\n",
       " '__repr__',\n",
       " '__setattr__',\n",
       " '__sizeof__',\n",
       " '__str__',\n",
       " '__subclasshook__',\n",
       " '__weakref__',\n",
       " '_bound_fields_cache',\n",
       " '_clean_fields',\n",
       " '_clean_form',\n",
       " '_errors',\n",
       " '_html_output',\n",
       " '_post_clean',\n",
       " 'add_error',\n",
       " 'add_initial_prefix',\n",
       " 'add_prefix',\n",
       " 'as_p',\n",
       " 'as_table',\n",
       " 'as_ul',\n",
       " 'auto_id',\n",
       " 'base_fields',\n",
       " 'changed_data',\n",
       " 'clean',\n",
       " 'clean_email',\n",
       " 'clean_username',\n",
       " 'data',\n",
       " 'declared_fields',\n",
       " 'default_renderer',\n",
       " 'empty_permitted',\n",
       " 'error_class',\n",
       " 'errors',\n",
       " 'field_order',\n",
       " 'fields',\n",
       " 'files',\n",
       " 'full_clean',\n",
       " 'get_initial_for_field',\n",
       " 'has_changed',\n",
       " 'has_error',\n",
       " 'hidden_fields',\n",
       " 'initial',\n",
       " 'is_bound',\n",
       " 'is_multipart',\n",
       " 'is_valid',\n",
       " 'label_suffix',\n",
       " 'media',\n",
       " 'non_field_errors',\n",
       " 'order_fields',\n",
       " 'prefix',\n",
       " 'renderer',\n",
       " 'save',\n",
       " 'use_required_attribute',\n",
       " 'visible_fields']"
      ]
     },
     "execution_count": 4,
     "metadata": {},
     "output_type": "execute_result"
    }
   ],
   "source": [
    "dir(form)\n"
   ]
  },
  {
   "cell_type": "code",
   "execution_count": 5,
   "metadata": {},
   "outputs": [
    {
     "data": {
      "text/plain": [
       "'<tr><th><label for=\"id_name\">Name:</label></th><td><input type=\"text\" name=\"name\" value=\"이도현\" class=\"form-control\" placeholder=\"이름\" maxlength=\"250\" required id=\"id_name\"></td></tr>\\n<tr><th><label for=\"id_email\">Email:</label></th><td><ul class=\"errorlist\"><li>이미 사용중인 email입니다</li></ul><input type=\"email\" name=\"email\" value=\"eqfwcev@naver.com\" class=\"form-control\" placeholder=\"이메일\" required id=\"id_email\"></td></tr>\\n<tr><th><label for=\"id_username\">Username:</label></th><td><ul class=\"errorlist\"><li>이미 사용중인 username입니다</li></ul><input type=\"text\" name=\"username\" value=\"eqfwcev123\" class=\"form-control\" placeholder=\"사용자 ID\" maxlength=\"250\" required id=\"id_username\"></td></tr>\\n<tr><th><label for=\"id_password\">Password:</label></th><td><input type=\"password\" name=\"password\" class=\"form-control\" placeholder=\"비밀번호\" maxlength=\"250\" required id=\"id_password\"></td></tr>'"
      ]
     },
     "execution_count": 5,
     "metadata": {},
     "output_type": "execute_result"
    }
   ],
   "source": [
    "form.as_table()"
   ]
  },
  {
   "cell_type": "code",
   "execution_count": 6,
   "metadata": {},
   "outputs": [
    {
     "data": {
      "text/plain": [
       "False"
      ]
     },
     "execution_count": 6,
     "metadata": {},
     "output_type": "execute_result"
    }
   ],
   "source": [
    "form.is_valid()"
   ]
  },
  {
   "cell_type": "code",
   "execution_count": 7,
   "metadata": {},
   "outputs": [
    {
     "data": {
      "text/plain": [
       "<SignupForm bound=True, valid=False, fields=(name;email;username;password)>"
      ]
     },
     "execution_count": 7,
     "metadata": {},
     "output_type": "execute_result"
    }
   ],
   "source": [
    "form"
   ]
  },
  {
   "cell_type": "code",
   "execution_count": 8,
   "metadata": {},
   "outputs": [
    {
     "data": {
      "text/plain": [
       "{'name': '이도현', 'password': '123'}"
      ]
     },
     "execution_count": 8,
     "metadata": {},
     "output_type": "execute_result"
    }
   ],
   "source": [
    "form.cleaned_data"
   ]
  },
  {
   "cell_type": "code",
   "execution_count": 9,
   "metadata": {},
   "outputs": [
    {
     "data": {
      "text/plain": [
       "{'email': ['이미 사용중인 email입니다'], 'username': ['이미 사용중인 username입니다']}"
      ]
     },
     "execution_count": 9,
     "metadata": {},
     "output_type": "execute_result"
    }
   ],
   "source": [
    "form.errors"
   ]
  },
  {
   "cell_type": "code",
   "execution_count": 10,
   "metadata": {},
   "outputs": [
    {
     "data": {
      "text/plain": [
       "[]"
      ]
     },
     "execution_count": 10,
     "metadata": {},
     "output_type": "execute_result"
    }
   ],
   "source": [
    "form.non_field_errors()"
   ]
  },
  {
   "cell_type": "code",
   "execution_count": 11,
   "metadata": {},
   "outputs": [
    {
     "data": {
      "text/plain": [
       "['이미 사용중인 email입니다']"
      ]
     },
     "execution_count": 11,
     "metadata": {},
     "output_type": "execute_result"
    }
   ],
   "source": [
    "form['email'].errors"
   ]
  },
  {
   "cell_type": "code",
   "execution_count": 12,
   "metadata": {},
   "outputs": [
    {
     "data": {
      "text/plain": [
       "['이미 사용중인 username입니다']"
      ]
     },
     "execution_count": 12,
     "metadata": {},
     "output_type": "execute_result"
    }
   ],
   "source": [
    "form['username'].errors"
   ]
  },
  {
   "cell_type": "code",
   "execution_count": 13,
   "metadata": {},
   "outputs": [
    {
     "data": {
      "text/plain": [
       "[]"
      ]
     },
     "execution_count": 13,
     "metadata": {},
     "output_type": "execute_result"
    }
   ],
   "source": [
    "form['name'].errors"
   ]
  },
  {
   "cell_type": "code",
   "execution_count": 14,
   "metadata": {},
   "outputs": [
    {
     "data": {
      "text/plain": [
       "[]"
      ]
     },
     "execution_count": 14,
     "metadata": {},
     "output_type": "execute_result"
    }
   ],
   "source": [
    "form['password'].errors"
   ]
  },
  {
   "cell_type": "code",
   "execution_count": 15,
   "metadata": {},
   "outputs": [
    {
     "name": "stdout",
     "output_type": "stream",
     "text": [
      "\n",
      "<ul class=\"errorlist\"><li>이미 사용중인 email입니다</li></ul>\n",
      "<ul class=\"errorlist\"><li>이미 사용중인 username입니다</li></ul>\n",
      "\n"
     ]
    }
   ],
   "source": [
    "for field in form:\n",
    "    print(field.errors)"
   ]
  },
  {
   "cell_type": "code",
   "execution_count": 16,
   "metadata": {},
   "outputs": [
    {
     "data": {
      "text/plain": [
       "False"
      ]
     },
     "execution_count": 16,
     "metadata": {},
     "output_type": "execute_result"
    }
   ],
   "source": [
    "form.is_valid()"
   ]
  },
  {
   "cell_type": "code",
   "execution_count": null,
   "metadata": {},
   "outputs": [],
   "source": []
  },
  {
   "cell_type": "code",
   "execution_count": 17,
   "metadata": {},
   "outputs": [],
   "source": [
    "from django.forms import formset_factory"
   ]
  },
  {
   "cell_type": "code",
   "execution_count": 18,
   "metadata": {},
   "outputs": [],
   "source": [
    "SignupFormSet = formset_factory(SignupForm)\n",
    "#signupFormSet 은 Class 가 된다. "
   ]
  },
  {
   "cell_type": "code",
   "execution_count": 19,
   "metadata": {},
   "outputs": [],
   "source": [
    "formset = SignupFormSet()"
   ]
  },
  {
   "cell_type": "code",
   "execution_count": 20,
   "metadata": {},
   "outputs": [
    {
     "name": "stdout",
     "output_type": "stream",
     "text": [
      "<tr><th><label for=\"id_form-0-name\">Name:</label></th><td><input type=\"text\" name=\"form-0-name\" class=\"form-control\" placeholder=\"이름\" maxlength=\"250\" id=\"id_form-0-name\"></td></tr>\n",
      "<tr><th><label for=\"id_form-0-email\">Email:</label></th><td><input type=\"email\" name=\"form-0-email\" class=\"form-control\" placeholder=\"이메일\" id=\"id_form-0-email\"></td></tr>\n",
      "<tr><th><label for=\"id_form-0-username\">Username:</label></th><td><input type=\"text\" name=\"form-0-username\" class=\"form-control\" placeholder=\"사용자 ID\" maxlength=\"250\" id=\"id_form-0-username\"></td></tr>\n",
      "<tr><th><label for=\"id_form-0-password\">Password:</label></th><td><input type=\"password\" name=\"form-0-password\" class=\"form-control\" placeholder=\"비밀번호\" maxlength=\"250\" id=\"id_form-0-password\"></td></tr>\n"
     ]
    }
   ],
   "source": [
    "for form in formset:\n",
    "    print(form.as_table())"
   ]
  },
  {
   "cell_type": "code",
   "execution_count": 21,
   "metadata": {},
   "outputs": [],
   "source": [
    "SignupFormSet = formset_factory(SignupForm, extra=2)\n",
    "# extra 를 두번째 매개변수로 넣어줄 경우 form을 지정한 횟수만큼 반환한다"
   ]
  },
  {
   "cell_type": "code",
   "execution_count": 22,
   "metadata": {},
   "outputs": [],
   "source": [
    "formset = SignupFormSet()"
   ]
  },
  {
   "cell_type": "code",
   "execution_count": 23,
   "metadata": {},
   "outputs": [
    {
     "name": "stdout",
     "output_type": "stream",
     "text": [
      "<tr><th><label for=\"id_form-0-name\">Name:</label></th><td><input type=\"text\" name=\"form-0-name\" class=\"form-control\" placeholder=\"이름\" maxlength=\"250\" id=\"id_form-0-name\"></td></tr>\n",
      "<tr><th><label for=\"id_form-0-email\">Email:</label></th><td><input type=\"email\" name=\"form-0-email\" class=\"form-control\" placeholder=\"이메일\" id=\"id_form-0-email\"></td></tr>\n",
      "<tr><th><label for=\"id_form-0-username\">Username:</label></th><td><input type=\"text\" name=\"form-0-username\" class=\"form-control\" placeholder=\"사용자 ID\" maxlength=\"250\" id=\"id_form-0-username\"></td></tr>\n",
      "<tr><th><label for=\"id_form-0-password\">Password:</label></th><td><input type=\"password\" name=\"form-0-password\" class=\"form-control\" placeholder=\"비밀번호\" maxlength=\"250\" id=\"id_form-0-password\"></td></tr>\n",
      "<tr><th><label for=\"id_form-1-name\">Name:</label></th><td><input type=\"text\" name=\"form-1-name\" class=\"form-control\" placeholder=\"이름\" maxlength=\"250\" id=\"id_form-1-name\"></td></tr>\n",
      "<tr><th><label for=\"id_form-1-email\">Email:</label></th><td><input type=\"email\" name=\"form-1-email\" class=\"form-control\" placeholder=\"이메일\" id=\"id_form-1-email\"></td></tr>\n",
      "<tr><th><label for=\"id_form-1-username\">Username:</label></th><td><input type=\"text\" name=\"form-1-username\" class=\"form-control\" placeholder=\"사용자 ID\" maxlength=\"250\" id=\"id_form-1-username\"></td></tr>\n",
      "<tr><th><label for=\"id_form-1-password\">Password:</label></th><td><input type=\"password\" name=\"form-1-password\" class=\"form-control\" placeholder=\"비밀번호\" maxlength=\"250\" id=\"id_form-1-password\"></td></tr>\n"
     ]
    }
   ],
   "source": [
    "for form in formset:\n",
    "    print(form.as_table())"
   ]
  },
  {
   "cell_type": "code",
   "execution_count": null,
   "metadata": {},
   "outputs": [],
   "source": []
  },
  {
   "cell_type": "code",
   "execution_count": null,
   "metadata": {},
   "outputs": [],
   "source": []
  }
 ],
 "metadata": {
  "kernelspec": {
   "display_name": "Django Shell-Plus",
   "language": "python",
   "name": "django_extensions"
  },
  "language_info": {
   "codemirror_mode": {
    "name": "ipython",
    "version": 3
   },
   "file_extension": ".py",
   "mimetype": "text/x-python",
   "name": "python",
   "nbconvert_exporter": "python",
   "pygments_lexer": "ipython3",
   "version": "3.7.5"
  }
 },
 "nbformat": 4,
 "nbformat_minor": 2
}
