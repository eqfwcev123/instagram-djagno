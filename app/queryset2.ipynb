{
 "cells": [
  {
   "cell_type": "code",
   "execution_count": null,
   "metadata": {},
   "outputs": [],
   "source": [
    "Post.objects.filter(postcomment__content__contains='국밥').values('pk')"
   ]
  },
  {
   "cell_type": "code",
   "execution_count": null,
   "metadata": {},
   "outputs": [],
   "source": [
    "Post.objects.filter(tags__isnull=True).values_list('pk',flat=True).order_by('-pk')"
   ]
  },
  {
   "cell_type": "code",
   "execution_count": null,
   "metadata": {},
   "outputs": [],
   "source": [
    "Post.objects.exclude(postcomment__isnull=True).exclude(postcomment__author=F('author'),).values_list('pk',flat=True).order_by('-pk')"
   ]
  },
  {
   "cell_type": "code",
   "execution_count": null,
   "metadata": {},
   "outputs": [],
   "source": [
    "Tag.objects.filter(posts__author__pk__iexact=1).values_list('posts', flat=True).distinct()"
   ]
  },
  {
   "cell_type": "code",
   "execution_count": null,
   "metadata": {},
   "outputs": [],
   "source": [
    "# 각 post의 postlike 가 null 인것들을 찾기\n",
    "Post.objects.exclude(postlike__isnull=True).values_list('id',flat=True).order_by('-pk')"
   ]
  },
  {
   "cell_type": "code",
   "execution_count": null,
   "metadata": {},
   "outputs": [],
   "source": [
    "PostComment.objects.filter(post__postlike__isnull=False).values_list('pk',flat=True).distinct().order_by('-pk')"
   ]
  },
  {
   "cell_type": "code",
   "execution_count": null,
   "metadata": {},
   "outputs": [],
   "source": [
    "from datetime import timedelta\n",
    "from django.utils import timezone\n",
    "\n",
    "now = timezone.now()\n",
    "a_week_ago = now - timedelta(days=3)\n",
    "print(a_week_ago)\n",
    "\n",
    "Post.objects.filter(postlike__created__lte=a_week_ago).values_list('pk','postlike__user').distinct().order_by('-pk')\n",
    "\n",
    "PostComment.objects.filter(post__postlike__created__lte=a_week_ago).values('pk','post','post__postlike__created').order_by('-pk')"
   ]
  },
  {
   "cell_type": "code",
   "execution_count": null,
   "metadata": {},
   "outputs": [],
   "source": [
    "Post.objects.annotate(comment_count=Count('postcomment')).values_list('pk','comment_count')"
   ]
  },
  {
   "cell_type": "code",
   "execution_count": null,
   "metadata": {},
   "outputs": [],
   "source": [
    "Post.objects.annotate(comment_count=Count('postcomment')).filter(comment_count__gte = 3).values_list('pk','comment_count')"
   ]
  }
 ],
 "metadata": {
  "kernelspec": {
   "display_name": "Django Shell-Plus",
   "language": "python",
   "name": "django_extensions"
  },
  "language_info": {
   "codemirror_mode": {
    "name": "ipython",
    "version": 3
   },
   "file_extension": ".py",
   "mimetype": "text/x-python",
   "name": "python",
   "nbconvert_exporter": "python",
   "pygments_lexer": "ipython3",
   "version": "3.7.5"
  }
 },
 "nbformat": 4,
 "nbformat_minor": 2
}
