{
 "cells": [
  {
   "cell_type": "code",
   "execution_count": 1,
   "metadata": {},
   "outputs": [
    {
     "data": {
      "text/plain": [
       "<QuerySet [<Post: author : eqfwcev123, content: #Python #Django, like_user : members.User.None, created: 2020-01-07 09:16:13.842422+00:00>, <Post: author : eqfwcev123, content: 자바스크립트(영어: JavaScript)는 객체 기반의 스크립트 프로그래밍 언어이다. 이 언어는 웹 브라우저 내에서 주로 사용하며, 다른 응용 프로그램의 내장 객체에도 접근할 수 있는 기능을 가지고 있다. 또한 Node.js와 같은 런타임 환경과 같이 서버 사이드 네트워크 프로그래밍에도 사용되고 있다. 자바스크립트는 본래 넷스케이프 커뮤니케이션즈 코퍼레이션의 브렌던 아이크(Brendan Eich)가 처음에는 모카(Mocha)라는 이름으로, 나중에는 라이브스크립트(LiveScript)라는 이름으로 개발하였으며, 최종적으로 자바스크립트가 되었다. 자바스크립트가 썬 마이크로시스템즈의 자바와 구문이 유사한 점도 있지만, 이는 사실 두 언어 모두 C 언어의 기본 구문에 바탕을 뒀기 때문이고, 자바와 자바스크립트는 직접적인 관련성이 없다. 이름과 구문 외에는 자바보다 셀프나 스킴과 유사성이 많다.\n",
       "\n",
       "2013년 1월 기준으로, 가장 최근 버전은 자바스크립트 1.8.5이고[3], 파이어폭스 3에서 지원된다. 표준 ECMA-262 3판에 대응하는 자바스크립트 버전은 1.5이다. ECMA스크립트는 쉽게 말해 자바스크립트의 표준화된 버전이다. 모질라 1.8 베타 1이 나오면서 XML에 대응하는 확장 언어인 E4X(ECMA-357)를 부분 지원하게 되었다. 자바스크립트는 브라우저마다 지원되는 버전이 다르다., like_user : members.User.None, created: 2020-01-07 09:16:33.361123+00:00>, <Post: author : eqfwcev123, content: 파이썬[2](영어: Python)은 1991년[3] 프로그래머인 귀도 반 로섬(Guido van Rossum)[4]이 발표한 고급 프로그래밍 언어로, 플랫폼에 독립적이며 인터프리터식, 객체지향적, 동적 타이핑(dynamically typed) 대화형 언어이다. 파이썬이라는 이름은 귀도가 좋아하는 코미디 〈Monty Python's Flying Circus〉에서 따온 것이다.\n",
       "\n",
       "파이썬은 비영리의 파이썬 소프트웨어 재단이 관리하는 개방형, 공동체 기반 개발 모델을 가지고 있다. C언어로 구현된 C파이썬 구현이 사실상의 표준이다., like_user : members.User.None, created: 2020-01-07 09:16:49.483929+00:00>, <Post: author : eqfwcev123, content: 프로토타입, like_user : members.User.None, created: 2020-01-08 06:49:00.801051+00:00>, <Post: author : eqfwcev123, content: 플토, like_user : members.User.None, created: 2020-01-08 06:49:47.133232+00:00>, <Post: author : eqfwcev123, content: 플토2, like_user : members.User.None, created: 2020-01-08 06:49:58.136000+00:00>, <Post: author : eqfwcev123, content: 플토3, like_user : members.User.None, created: 2020-01-08 06:50:20.932727+00:00>, <Post: author : eqfwcev123, content: 작은 이미지, like_user : members.User.None, created: 2020-01-08 07:39:17.555538+00:00>, <Post: author : eqfwcev123, content: 여러개, like_user : members.User.None, created: 2020-01-08 07:50:49.441206+00:00>, <Post: author : eqfwcev123, content: sadfasdf, like_user : members.User.None, created: 2020-01-08 07:51:59.815042+00:00>, <Post: author : eqfwcev123, content: asdfadsfasdfasd, like_user : members.User.None, created: 2020-01-08 07:52:17.308419+00:00>, <Post: author : eqfwcev123, content: ㅁㄴㅇㄹㅁㄴㅇ, like_user : members.User.None, created: 2020-01-08 07:53:03.386901+00:00>, <Post: author : eqfwcev123, content: 이쁜 이미지, like_user : members.User.None, created: 2020-01-08 08:11:33.830135+00:00>, <Post: author : eqfwcev123, content: 새로운 글, like_user : members.User.None, created: 2020-01-14 06:36:05.608097+00:00>, <Post: author : eqfwcev123, content: #장ㄱ, like_user : members.User.None, created: 2020-01-14 07:45:35.670387+00:00>, <Post: author : eqfwcev123, content: 신나는WPS <a href=\"#Python\">#Python</a> <a href=\"#Django\">#Django</a>, like_user : members.User.None, created: 2020-01-14 07:49:29.223431+00:00>, <Post: author : eqfwcev123, content: #망고, like_user : members.User.None, created: 2020-01-14 08:49:43.808764+00:00>, <Post: author : eqfwcev123, content: hello world, like_user : members.User.None, created: 2020-01-14 09:00:48.758858+00:00>, <Post: author : eqfwcev123, content: #asdfasdf, like_user : members.User.None, created: 2020-01-14 09:06:03.924733+00:00>, <Post: author : eqfwcev123, content: #django, like_user : members.User.None, created: 2020-01-14 09:50:24.214027+00:00>]>"
      ]
     },
     "execution_count": 1,
     "metadata": {},
     "output_type": "execute_result"
    }
   ],
   "source": [
    "Post.objects.all()"
   ]
  },
  {
   "cell_type": "code",
   "execution_count": null,
   "metadata": {},
   "outputs": [],
   "source": []
  }
 ],
 "metadata": {
  "kernelspec": {
   "display_name": "Django Shell-Plus",
   "language": "python",
   "name": "django_extensions"
  },
  "language_info": {
   "codemirror_mode": {
    "name": "ipython",
    "version": 3
   },
   "file_extension": ".py",
   "mimetype": "text/x-python",
   "name": "python",
   "nbconvert_exporter": "python",
   "pygments_lexer": "ipython3",
   "version": "3.7.5"
  }
 },
 "nbformat": 4,
 "nbformat_minor": 2
}
