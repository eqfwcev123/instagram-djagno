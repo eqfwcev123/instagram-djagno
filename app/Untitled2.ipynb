{
 "cells": [
  {
   "cell_type": "code",
   "execution_count": 80,
   "metadata": {},
   "outputs": [
    {
     "data": {
      "text/plain": [
       "<QuerySet [{'pk': 19}, {'pk': 20}, {'pk': 20}, {'pk': 18}]>"
      ]
     },
     "execution_count": 80,
     "metadata": {},
     "output_type": "execute_result"
    }
   ],
   "source": [
    "# postcomment_set는  relate_name으로 반대쪽 객체에서 사용. post.postcomment_set\n",
    "# postcomment 는 related_query_name으로 반대쪽 Queryset의 filter조건 키워드명으로 사용\n",
    "# 기본값\n",
    "    # related_name : <모델클래스명의 lowercase>_set\n",
    "    # related_name : <모델클래스명의 lowercase>\n",
    "Post.objects.filter(postcomment__content__iexact='WPS').values('pk')"
   ]
  },
  {
   "cell_type": "code",
   "execution_count": 85,
   "metadata": {},
   "outputs": [
    {
     "data": {
      "text/plain": [
       "<QuerySet [18, 16, 15, 13, 12, 11, 10, 9, 8, 7, 6, 5, 4, 3, 2]>"
      ]
     },
     "execution_count": 85,
     "metadata": {},
     "output_type": "execute_result"
    }
   ],
   "source": [
    "Post.objects.filter(tags__isnull=True).values_list('pk',flat=True).order_by('-pk')"
   ]
  },
  {
   "cell_type": "code",
   "execution_count": 86,
   "metadata": {},
   "outputs": [
    {
     "data": {
      "text/plain": [
       "<QuerySet []>"
      ]
     },
     "execution_count": 86,
     "metadata": {},
     "output_type": "execute_result"
    }
   ],
   "source": [
    "Post.objects.exclude(postcomment__isnull=True).exclude(postcomment__author=F('author'),).values_list('pk',flat=True).order_by('-pk')"
   ]
  },
  {
   "cell_type": "code",
   "execution_count": null,
   "metadata": {},
   "outputs": [],
   "source": []
  }
 ],
 "metadata": {
  "kernelspec": {
   "display_name": "Django Shell-Plus",
   "language": "python",
   "name": "django_extensions"
  },
  "language_info": {
   "codemirror_mode": {
    "name": "ipython",
    "version": 3
   },
   "file_extension": ".py",
   "mimetype": "text/x-python",
   "name": "python",
   "nbconvert_exporter": "python",
   "pygments_lexer": "ipython3",
   "version": "3.7.5"
  }
 },
 "nbformat": 4,
 "nbformat_minor": 2
}
